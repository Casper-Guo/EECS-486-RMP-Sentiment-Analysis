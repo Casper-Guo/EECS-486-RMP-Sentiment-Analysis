{
 "cells": [
  {
   "cell_type": "code",
   "execution_count": null,
   "metadata": {},
   "outputs": [],
   "source": [
    "import pandas as pd"
   ]
  },
  {
   "cell_type": "code",
   "execution_count": null,
   "metadata": {},
   "outputs": [],
   "source": [
    "df_prof = pd.read_csv(\"raw_prof_info.csv\")"
   ]
  },
  {
   "cell_type": "code",
   "execution_count": null,
   "metadata": {},
   "outputs": [],
   "source": [
    "df_prof.dtypes"
   ]
  },
  {
   "cell_type": "code",
   "execution_count": null,
   "metadata": {},
   "outputs": [],
   "source": [
    "df_prof = df_prof.drop_duplicates(subset=[\"profID\"])"
   ]
  },
  {
   "cell_type": "code",
   "execution_count": null,
   "metadata": {},
   "outputs": [],
   "source": [
    "df_prof.head()"
   ]
  },
  {
   "cell_type": "code",
   "execution_count": null,
   "metadata": {},
   "outputs": [],
   "source": [
    "df_prof[\"numRatings\"] = df_prof[\"numRatings\"].astype(int)"
   ]
  },
  {
   "cell_type": "code",
   "execution_count": null,
   "metadata": {},
   "outputs": [],
   "source": [
    "df_prof[\"wouldTakeAgainPercent\"] = df_prof[\"wouldTakeAgainPercent\"].apply(lambda x: int(x) if x >= 0 else float(\"nan\"))"
   ]
  },
  {
   "cell_type": "code",
   "execution_count": null,
   "metadata": {},
   "outputs": [],
   "source": [
    "df_prof[\"fullName\"] = df_prof.apply(lambda row: row[\"firstName\"] + \" \" + row[\"lastName\"], axis=1)"
   ]
  },
  {
   "cell_type": "code",
   "execution_count": null,
   "metadata": {},
   "outputs": [],
   "source": [
    "df_ratings = pd.read_csv(\"raw_ratings.csv\", lineterminator=\"\\n\")"
   ]
  },
  {
   "cell_type": "code",
   "execution_count": null,
   "metadata": {},
   "outputs": [],
   "source": [
    "df_ratings = df_ratings.drop_duplicates()\n",
    "df_ratings.shape"
   ]
  },
  {
   "cell_type": "code",
   "execution_count": null,
   "metadata": {},
   "outputs": [],
   "source": [
    "df_ratings.head()"
   ]
  },
  {
   "cell_type": "code",
   "execution_count": null,
   "metadata": {},
   "outputs": [],
   "source": [
    "df_ratings.dtypes"
   ]
  },
  {
   "cell_type": "code",
   "execution_count": null,
   "metadata": {},
   "outputs": [],
   "source": [
    "df_ratings = df_ratings[df_ratings.apply(lambda row: row.loc[\"profID\"].isdigit(), axis=1)]"
   ]
  },
  {
   "cell_type": "code",
   "execution_count": null,
   "metadata": {},
   "outputs": [],
   "source": [
    "df_ratings[\"profID\"] = df_ratings[\"profID\"].astype(int)"
   ]
  },
  {
   "cell_type": "code",
   "execution_count": null,
   "metadata": {},
   "outputs": [],
   "source": [
    "df_ratings = df_ratings.rename(columns={\"wouldTakeAgain\\r\":\"wouldTakeAgain\"})"
   ]
  },
  {
   "cell_type": "code",
   "execution_count": null,
   "metadata": {},
   "outputs": [],
   "source": [
    "df_ratings = df_ratings.dropna(subset=\"comment\")"
   ]
  },
  {
   "cell_type": "code",
   "execution_count": null,
   "metadata": {},
   "outputs": [],
   "source": [
    "df_ratings[\"isForCredit\"] = df_ratings[\"isForCredit\"].astype(bool)\n",
    "df_ratings[\"isForOnlineClass\"] = df_ratings[\"isForOnlineClass\"].astype(bool)\n",
    "df_ratings[\"wouldTakeAgain\"] = df_ratings[\"wouldTakeAgain\"].astype(bool)"
   ]
  },
  {
   "cell_type": "code",
   "execution_count": null,
   "metadata": {},
   "outputs": [],
   "source": [
    "def convert_mandatory(x):\n",
    "    if isinstance(x, str):\n",
    "        if x.upper().startswith('N'):\n",
    "            return False\n",
    "        else:\n",
    "            return True\n",
    "\n",
    "df_ratings[\"attendanceMandatory\"] = df_ratings[\"attendanceMandatory\"].apply(convert_mandatory)"
   ]
  },
  {
   "cell_type": "code",
   "execution_count": null,
   "metadata": {},
   "outputs": [],
   "source": [
    "df_ratings[\"attendanceMandatory\"] = df_ratings[\"attendanceMandatory\"].astype(bool)"
   ]
  },
  {
   "cell_type": "code",
   "execution_count": null,
   "metadata": {},
   "outputs": [],
   "source": [
    "df_ratings[\"difficultyRating\"] = df_ratings[\"difficultyRating\"].astype(float)"
   ]
  },
  {
   "cell_type": "code",
   "execution_count": null,
   "metadata": {},
   "outputs": [],
   "source": [
    "def convert_date(x):\n",
    "    if isinstance(x, str):\n",
    "        return pd.to_datetime(x[:(x.find('+') - 1)])\n",
    "    else:\n",
    "        return pd.NaT\n",
    "    \n",
    "df_ratings[\"date\"] = df_ratings[\"date\"].apply(convert_date)"
   ]
  },
  {
   "cell_type": "code",
   "execution_count": null,
   "metadata": {},
   "outputs": [],
   "source": [
    "def convert_tags(x):\n",
    "    if isinstance(x, str):\n",
    "        tags = x.strip().split(\"--\")\n",
    "        return [tag.title() for tag in tags]\n",
    "    else:\n",
    "        return None\n",
    "\n",
    "\n",
    "df_ratings[\"ratingTags\"] = df_ratings[\"ratingTags\"].apply(convert_tags)"
   ]
  },
  {
   "cell_type": "code",
   "execution_count": null,
   "metadata": {},
   "outputs": [],
   "source": [
    "df_prof.to_csv(\"clean_prof_info.csv\", index=False)\n",
    "df_ratings.to_csv(\"clean_ratings.csv\", index=False)"
   ]
  }
 ],
 "metadata": {
  "kernelspec": {
   "display_name": "base",
   "language": "python",
   "name": "python3"
  },
  "language_info": {
   "codemirror_mode": {
    "name": "ipython",
    "version": 3
   },
   "file_extension": ".py",
   "mimetype": "text/x-python",
   "name": "python",
   "nbconvert_exporter": "python",
   "pygments_lexer": "ipython3",
   "version": "3.8.15"
  },
  "orig_nbformat": 4
 },
 "nbformat": 4,
 "nbformat_minor": 2
}
